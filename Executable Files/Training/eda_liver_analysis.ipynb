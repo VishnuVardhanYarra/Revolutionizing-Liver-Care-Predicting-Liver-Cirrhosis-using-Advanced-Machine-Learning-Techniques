{
 "cells": [
  {
   "cell_type": "markdown",
   "id": "82dd7d43",
   "metadata": {},
   "source": [
    "# 🩺 Liver Cirrhosis Dataset – Exploratory Data Analysis"
   ]
  },
  {
   "cell_type": "code",
   "execution_count": null,
   "id": "f2ded5a9",
   "metadata": {},
   "outputs": [],
   "source": [
    "\n",
    "import pandas as pd\n",
    "import numpy as np\n",
    "import matplotlib.pyplot as plt\n",
    "import seaborn as sns\n",
    "%matplotlib inline\n",
    "plt.rcParams['figure.figsize'] = (10, 6)\n",
    "sns.set_style(\"whitegrid\")\n"
   ]
  },
  {
   "cell_type": "markdown",
   "id": "f5fcc606",
   "metadata": {},
   "source": [
    "## Load the cleaned dataset"
   ]
  },
  {
   "cell_type": "code",
   "execution_count": null,
   "id": "a8b70584",
   "metadata": {},
   "outputs": [],
   "source": [
    "\n",
    "df = pd.read_csv(\"../Data/liver_data.csv\")  # adjust if needed\n",
    "df.head()\n"
   ]
  },
  {
   "cell_type": "markdown",
   "id": "893824de",
   "metadata": {},
   "source": [
    "## Dataset Overview"
   ]
  },
  {
   "cell_type": "code",
   "execution_count": null,
   "id": "886ce76c",
   "metadata": {},
   "outputs": [],
   "source": [
    "\n",
    "print(\"Shape:\", df.shape)\n",
    "df.info()\n"
   ]
  },
  {
   "cell_type": "markdown",
   "id": "c1ac1270",
   "metadata": {},
   "source": [
    "## Summary Statistics"
   ]
  },
  {
   "cell_type": "code",
   "execution_count": null,
   "id": "23c61294",
   "metadata": {},
   "outputs": [],
   "source": [
    "df.describe().T"
   ]
  },
  {
   "cell_type": "markdown",
   "id": "64ca4999",
   "metadata": {},
   "source": [
    "## Target Variable Distribution"
   ]
  },
  {
   "cell_type": "code",
   "execution_count": null,
   "id": "b0d41736",
   "metadata": {},
   "outputs": [],
   "source": [
    "\n",
    "sns.countplot(x='Liver_Cirrhosis', data=df)\n",
    "plt.title('Class Distribution')\n",
    "plt.show()\n"
   ]
  },
  {
   "cell_type": "markdown",
   "id": "b8caf3f9",
   "metadata": {},
   "source": [
    "## Histograms for Numerical Features"
   ]
  },
  {
   "cell_type": "code",
   "execution_count": null,
   "id": "37007531",
   "metadata": {},
   "outputs": [],
   "source": [
    "\n",
    "df.hist(figsize=(15, 12), bins=20)\n",
    "plt.tight_layout()\n",
    "plt.show()\n"
   ]
  },
  {
   "cell_type": "markdown",
   "id": "479a1172",
   "metadata": {},
   "source": [
    "## Boxplots to Detect Outliers"
   ]
  },
  {
   "cell_type": "code",
   "execution_count": null,
   "id": "64ddba75",
   "metadata": {},
   "outputs": [],
   "source": [
    "\n",
    "numeric_cols = df.select_dtypes(include=np.number).columns\n",
    "for col in numeric_cols:\n",
    "    sns.boxplot(y=df[col])\n",
    "    plt.title(col)\n",
    "    plt.show()\n"
   ]
  },
  {
   "cell_type": "markdown",
   "id": "ac452075",
   "metadata": {},
   "source": [
    "## Correlation Heatmap"
   ]
  },
  {
   "cell_type": "code",
   "execution_count": null,
   "id": "f73b036b",
   "metadata": {},
   "outputs": [],
   "source": [
    "\n",
    "corr = df.corr()\n",
    "sns.heatmap(corr, cmap='coolwarm')\n",
    "plt.title('Correlation Matrix')\n",
    "plt.show()\n"
   ]
  },
  {
   "cell_type": "markdown",
   "id": "43da1ef4",
   "metadata": {},
   "source": [
    "## Pairplot of Key Features"
   ]
  },
  {
   "cell_type": "code",
   "execution_count": null,
   "id": "379b9b75",
   "metadata": {},
   "outputs": [],
   "source": [
    "\n",
    "key_features = ['Direct_Bilirubin', 'ALT', 'AST', 'Albumin', 'Liver_Cirrhosis']\n",
    "sns.pairplot(df[key_features], hue='Liver_Cirrhosis')\n",
    "plt.show()\n"
   ]
  },
  {
   "cell_type": "markdown",
   "id": "27d4322a",
   "metadata": {},
   "source": [
    "## Key Insights\n",
    "- Enzyme levels and bilirubin appear elevated in positive cases.\n",
    "- Slight class imbalance exists.\n",
    "- Correlated features may inform feature engineering."
   ]
  }
 ],
 "metadata": {},
 "nbformat": 4,
 "nbformat_minor": 5
}
